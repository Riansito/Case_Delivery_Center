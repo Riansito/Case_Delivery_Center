{
 "cells": [
  {
   "cell_type": "code",
   "execution_count": 1,
   "id": "1f8cf4f3",
   "metadata": {},
   "outputs": [],
   "source": [
    "import pandas as pd\n",
    "import numpy as np\n",
    "from sqlalchemy import create_engine\n",
    "from urllib.parse import quote_plus\n",
    "\n"
   ]
  },
  {
   "cell_type": "code",
   "execution_count": 2,
   "id": "2f692225",
   "metadata": {},
   "outputs": [],
   "source": [
    "deliveries = pd.read_csv(\"Dados/deliveries.csv\")\n",
    "drivers = pd.read_csv(\"Dados/drivers.csv\")\n",
    "hubs = pd.read_csv(\"Dados/hubs.csv\", encoding=\"latin1\")\n",
    "oders = pd.read_csv(\"Dados/orders.csv\")\n",
    "payments = pd.read_csv(\"Dados/payments.csv\")\n",
    "stores = pd.read_csv(\"Dados/stores.csv\", encoding=\"latin1\")\n"
   ]
  },
  {
   "cell_type": "code",
   "execution_count": 3,
   "id": "efcdfa5f",
   "metadata": {},
   "outputs": [],
   "source": [
    "# --- 1️⃣ Criar a conexão com o banco MySQL ---\n",
    "usuario = \"root\"\n",
    "senha = quote_plus(\"rianF40@\")  # codifica o @\n",
    "host = \"127.0.0.1\"              # ou \"localhost\"\n",
    "porta = 3306\n",
    "banco = \"case_delivery\"\n",
    "\n",
    "engine = create_engine(f\"mysql+pymysql://{usuario}:{senha}@{host}:{porta}/{banco}\")"
   ]
  },
  {
   "cell_type": "code",
   "execution_count": null,
   "id": "c36c881d",
   "metadata": {},
   "outputs": [
    {
     "data": {
      "text/plain": [
       "951"
      ]
     },
     "execution_count": 24,
     "metadata": {},
     "output_type": "execute_result"
    }
   ],
   "source": [
    "# Subindo as tabelas dimensão\n",
    "drivers.to_sql('dim_drivers', con=engine, index=False, if_exists='replace')\n",
    "hubs.to_sql('dim_hubs', con=engine, index=False, if_exists='replace')\n",
    "stores.to_sql('dim_stores', con=engine, index=False, if_exists='replace')"
   ]
  },
  {
   "cell_type": "code",
   "execution_count": null,
   "id": "3d1f21fe",
   "metadata": {},
   "outputs": [
    {
     "data": {
      "text/plain": [
       "400834"
      ]
     },
     "execution_count": 4,
     "metadata": {},
     "output_type": "execute_result"
    }
   ],
   "source": [
    "# Subindo as tabelas Fatos\n",
    "deliveries.to_sql('fat_deliveries', con=engine, index=False, if_exists='replace')\n",
    "oders.to_sql('fat_oders', con=engine, index=False, if_exists='replace')\n",
    "payments.to_sql('fat_payments', con=engine, index=False, if_exists='replace')"
   ]
  }
 ],
 "metadata": {
  "kernelspec": {
   "display_name": "Python 3",
   "language": "python",
   "name": "python3"
  },
  "language_info": {
   "codemirror_mode": {
    "name": "ipython",
    "version": 3
   },
   "file_extension": ".py",
   "mimetype": "text/x-python",
   "name": "python",
   "nbconvert_exporter": "python",
   "pygments_lexer": "ipython3",
   "version": "3.12.6"
  }
 },
 "nbformat": 4,
 "nbformat_minor": 5
}
